{
 "cells": [
  {
   "cell_type": "code",
   "execution_count": 14,
   "id": "a2d7cf2d",
   "metadata": {},
   "outputs": [],
   "source": [
    "import pandas as pd\n",
    "data1=pd.read_csv('https://raw.githubusercontent.com/Bungeetech/internship-test/master/input/main.csv',error_bad_lines=False)\n",
    "type(False)\n",
    "booleans=[]\n",
    "for country in data1.COUNTRY:\n",
    "    if 'USA' in country:\n",
    "        booleans.append(True)\n",
    "    else:\n",
    "        booleans.append(False)\n",
    "is_long=pd.Series(booleans)\n",
    "data1[is_long]\n",
    "c= pd.DataFrame(data1[is_long])\n",
    "c.to_csv(r'C:\\Users\\POOJA\\Downloads\\output\\filteredCountry.csv', index=False)"
   ]
  },
  {
   "cell_type": "code",
   "execution_count": 15,
   "id": "3cd6515f",
   "metadata": {},
   "outputs": [],
   "source": [
    "import pandas as pd\n",
    "df = pd.read_csv (r'C:\\Users\\POOJA\\Downloads\\output\\filteredCountry.csv',usecols=['SKU', 'PRICE'])\n",
    "df.groupby('SKU')['PRICE'].apply(list)\n",
    "df1 = df.groupby('SKU')['PRICE'].apply(list).reset_index(name='PRICE')\n",
    "c1= pd.DataFrame(df1)\n",
    "c1.to_csv(r'C:\\Users\\POOJA\\Downloads\\working\\TempF.csv', index=False)\n",
    "data = pd.read_csv (r'C:\\Users\\POOJA\\Untitled Folder\\TempF.csv')\n",
    "data['PRICE'] =  data['PRICE'].apply(lambda x: x.replace('[','').replace(']','').replace('$','').replace('.00','').replace('?',''))\n",
    "new = data['PRICE'].str.split(\", \", n = 5, expand = True)\n",
    "data['FIRST_MINIMUM_PRICE']= new[0]\n",
    "data['FIRST_MINIMUM_PRICE'] =  data['FIRST_MINIMUM_PRICE'].str.strip(\" ' \")\n",
    "data['SECOND_MINIMUM_PRICE']= new[1]\n",
    "data['SECOND_MINIMUM_PRICE'] =  data['SECOND_MINIMUM_PRICE'].str.strip(\" ' \")\n",
    "data.drop(columns =[\"PRICE\"], inplace = True)\n",
    "data.dropna(inplace = True)\n",
    "data\n",
    "c2= pd.DataFrame(data)\n",
    "c2.to_csv(r'C:\\Users\\POOJA\\Downloads\\output\\lowestPrice.csv', index=False)"
   ]
  },
  {
   "cell_type": "code",
   "execution_count": null,
   "id": "1af3c9bc",
   "metadata": {},
   "outputs": [],
   "source": []
  }
 ],
 "metadata": {
  "kernelspec": {
   "display_name": "Python 3",
   "language": "python",
   "name": "python3"
  },
  "language_info": {
   "codemirror_mode": {
    "name": "ipython",
    "version": 3
   },
   "file_extension": ".py",
   "mimetype": "text/x-python",
   "name": "python",
   "nbconvert_exporter": "python",
   "pygments_lexer": "ipython3",
   "version": "3.8.8"
  }
 },
 "nbformat": 4,
 "nbformat_minor": 5
}
